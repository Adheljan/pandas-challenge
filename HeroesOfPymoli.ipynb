{
 "metadata": {
  "language_info": {
   "codemirror_mode": {
    "name": "ipython",
    "version": 3
   },
   "file_extension": ".py",
   "mimetype": "text/x-python",
   "name": "python",
   "nbconvert_exporter": "python",
   "pygments_lexer": "ipython3",
   "version": "3.8.8"
  },
  "orig_nbformat": 4,
  "kernelspec": {
   "name": "python3",
   "display_name": "Python 3.8.8 64-bit ('base': conda)"
  },
  "interpreter": {
   "hash": "c50dc29c5a74b9c2b190ff02f8a560898d08ecceb2a52345101d3a3b1752042a"
  }
 },
 "nbformat": 4,
 "nbformat_minor": 2,
 "cells": [
  {
   "cell_type": "code",
   "execution_count": 4,
   "metadata": {},
   "outputs": [
    {
     "output_type": "execute_result",
     "data": {
      "text/plain": [
       "   Purchase ID             SN  Age Gender  Item ID  \\\n",
       "0            0        Lisim78   20   Male      108   \n",
       "1            1    Lisovynya38   40   Male      143   \n",
       "2            2     Ithergue48   24   Male       92   \n",
       "3            3  Chamassasya86   24   Male      100   \n",
       "4            4      Iskosia90   23   Male      131   \n",
       "\n",
       "                                   Item Name  Price  \n",
       "0  Extraction, Quickblade Of Trembling Hands   3.53  \n",
       "1                          Frenzied Scimitar   1.56  \n",
       "2                               Final Critic   4.88  \n",
       "3                                Blindscythe   3.27  \n",
       "4                                       Fury   1.44  "
      ],
      "text/html": "<div>\n<style scoped>\n    .dataframe tbody tr th:only-of-type {\n        vertical-align: middle;\n    }\n\n    .dataframe tbody tr th {\n        vertical-align: top;\n    }\n\n    .dataframe thead th {\n        text-align: right;\n    }\n</style>\n<table border=\"1\" class=\"dataframe\">\n  <thead>\n    <tr style=\"text-align: right;\">\n      <th></th>\n      <th>Purchase ID</th>\n      <th>SN</th>\n      <th>Age</th>\n      <th>Gender</th>\n      <th>Item ID</th>\n      <th>Item Name</th>\n      <th>Price</th>\n    </tr>\n  </thead>\n  <tbody>\n    <tr>\n      <th>0</th>\n      <td>0</td>\n      <td>Lisim78</td>\n      <td>20</td>\n      <td>Male</td>\n      <td>108</td>\n      <td>Extraction, Quickblade Of Trembling Hands</td>\n      <td>3.53</td>\n    </tr>\n    <tr>\n      <th>1</th>\n      <td>1</td>\n      <td>Lisovynya38</td>\n      <td>40</td>\n      <td>Male</td>\n      <td>143</td>\n      <td>Frenzied Scimitar</td>\n      <td>1.56</td>\n    </tr>\n    <tr>\n      <th>2</th>\n      <td>2</td>\n      <td>Ithergue48</td>\n      <td>24</td>\n      <td>Male</td>\n      <td>92</td>\n      <td>Final Critic</td>\n      <td>4.88</td>\n    </tr>\n    <tr>\n      <th>3</th>\n      <td>3</td>\n      <td>Chamassasya86</td>\n      <td>24</td>\n      <td>Male</td>\n      <td>100</td>\n      <td>Blindscythe</td>\n      <td>3.27</td>\n    </tr>\n    <tr>\n      <th>4</th>\n      <td>4</td>\n      <td>Iskosia90</td>\n      <td>23</td>\n      <td>Male</td>\n      <td>131</td>\n      <td>Fury</td>\n      <td>1.44</td>\n    </tr>\n  </tbody>\n</table>\n</div>"
     },
     "metadata": {},
     "execution_count": 4
    }
   ],
   "source": [
    "# Dependencies and Setup\n",
    "import pandas as pd\n",
    "\n",
    "# File to Load (Remember to Change These)\n",
    "file_to_load = \"Resources/purchase_data.csv\"\n",
    "\n",
    "# Read Purchasing File and store into Pandas data frame\n",
    "purchase_data = pd.read_csv(file_to_load)\n",
    "purchase_data.head()"
   ]
  },
  {
   "cell_type": "code",
   "execution_count": 18,
   "metadata": {},
   "outputs": [
    {
     "output_type": "execute_result",
     "data": {
      "text/plain": [
       "   Total Players\n",
       "0            576"
      ],
      "text/html": "<div>\n<style scoped>\n    .dataframe tbody tr th:only-of-type {\n        vertical-align: middle;\n    }\n\n    .dataframe tbody tr th {\n        vertical-align: top;\n    }\n\n    .dataframe thead th {\n        text-align: right;\n    }\n</style>\n<table border=\"1\" class=\"dataframe\">\n  <thead>\n    <tr style=\"text-align: right;\">\n      <th></th>\n      <th>Total Players</th>\n    </tr>\n  </thead>\n  <tbody>\n    <tr>\n      <th>0</th>\n      <td>576</td>\n    </tr>\n  </tbody>\n</table>\n</div>"
     },
     "metadata": {},
     "execution_count": 18
    }
   ],
   "source": [
    "player_count = len(purchase_data[\"SN\"].unique())\n",
    "player_count\n",
    "\n",
    "player_count_summary=pd.DataFrame({\"Total Players\":[player_count]})\n",
    "player_count_summary"
   ]
  },
  {
   "cell_type": "code",
   "execution_count": 68,
   "metadata": {},
   "outputs": [
    {
     "output_type": "execute_result",
     "data": {
      "text/plain": [
       "   Number of Unique Items Average Price  Number of Purchases Total Revenue\n",
       "0                     179         $3.05                  780      $2379.77"
      ],
      "text/html": "<div>\n<style scoped>\n    .dataframe tbody tr th:only-of-type {\n        vertical-align: middle;\n    }\n\n    .dataframe tbody tr th {\n        vertical-align: top;\n    }\n\n    .dataframe thead th {\n        text-align: right;\n    }\n</style>\n<table border=\"1\" class=\"dataframe\">\n  <thead>\n    <tr style=\"text-align: right;\">\n      <th></th>\n      <th>Number of Unique Items</th>\n      <th>Average Price</th>\n      <th>Number of Purchases</th>\n      <th>Total Revenue</th>\n    </tr>\n  </thead>\n  <tbody>\n    <tr>\n      <th>0</th>\n      <td>179</td>\n      <td>$3.05</td>\n      <td>780</td>\n      <td>$2379.77</td>\n    </tr>\n  </tbody>\n</table>\n</div>"
     },
     "metadata": {},
     "execution_count": 68
    }
   ],
   "source": [
    "items_count = len(purchase_data[\"Item ID\"].unique())\n",
    "items_count\n",
    "\n",
    "average_purchase_price = purchase_data[\"Price\"].mean()\n",
    "average_purchase_price\n",
    "\n",
    "purchase_count = len(purchase_data[\"Purchase ID\"].unique())\n",
    "purchase_count\n",
    "\n",
    "total_revenue = purchase_data[\"Price\"].sum()\n",
    "total_revenue\n",
    "\n",
    "result_summary = pd.DataFrame({\n",
    "    \"Number of Unique Items\":[items_count],\n",
    "    \"Average Price\":[average_purchase_price],\n",
    "    \"Number of Purchases\":[purchase_count],\n",
    "    \"Total Revenue\":[total_revenue]})\n",
    "\n",
    "result_summary[\"Average Price\"] = result_summary[\"Average Price\"].map(\"${0:.2f}\".format)\n",
    "result_summary[\"Total Revenue\"] = result_summary[\"Total Revenue\"].map(\"${0:.2f}\".format)\n",
    "result_summary"
   ]
  },
  {
   "cell_type": "code",
   "execution_count": 71,
   "metadata": {},
   "outputs": [
    {
     "output_type": "execute_result",
     "data": {
      "text/plain": [
       "                       Total Count Percentage of Players\n",
       "                                                        \n",
       "Male                           484                84.03%\n",
       "Female                          81                14.06%\n",
       "Other / Non-Disclosed           11                 1.91%"
      ],
      "text/html": "<div>\n<style scoped>\n    .dataframe tbody tr th:only-of-type {\n        vertical-align: middle;\n    }\n\n    .dataframe tbody tr th {\n        vertical-align: top;\n    }\n\n    .dataframe thead th {\n        text-align: right;\n    }\n</style>\n<table border=\"1\" class=\"dataframe\">\n  <thead>\n    <tr style=\"text-align: right;\">\n      <th></th>\n      <th>Total Count</th>\n      <th>Percentage of Players</th>\n    </tr>\n    <tr>\n      <th></th>\n      <th></th>\n      <th></th>\n    </tr>\n  </thead>\n  <tbody>\n    <tr>\n      <th>Male</th>\n      <td>484</td>\n      <td>84.03%</td>\n    </tr>\n    <tr>\n      <th>Female</th>\n      <td>81</td>\n      <td>14.06%</td>\n    </tr>\n    <tr>\n      <th>Other / Non-Disclosed</th>\n      <td>11</td>\n      <td>1.91%</td>\n    </tr>\n  </tbody>\n</table>\n</div>"
     },
     "metadata": {},
     "execution_count": 71
    }
   ],
   "source": [
    "male_player = purchase_data.loc[purchase_data[\"Gender\"] == \"Male\"]\n",
    "male_count = len(male_player[\"SN\"].unique())\n",
    "male_count\n",
    "\n",
    "female_player = purchase_data.loc[purchase_data[\"Gender\"] == \"Female\"]\n",
    "female_count = len(female_player[\"SN\"].unique())\n",
    "female_count  \n",
    "\n",
    "other_player = purchase_data.loc[purchase_data[\"Gender\"] == \"Other / Non-Disclosed\"]\n",
    "other_count = len(other_player[\"SN\"].unique())\n",
    "other_count\n",
    "\n",
    "male_percentage = \"{:.2f}%\".format(male_count / player_count * 100)\n",
    "male_percentage\n",
    "\n",
    "female_percentage = \"{:.2f}%\".format(female_count / player_count * 100)\n",
    "female_percentage\n",
    "\n",
    "other_percentage = \"{:.2f}%\".format(other_count / player_count * 100)\n",
    "other_percentage\n",
    "\n",
    "gender_summary = pd.DataFrame({\n",
    "    \"\":[\"Male\", \"Female\", \"Other / Non-Disclosed\"],\n",
    "    \"Total Count\":[male_count, female_count, other_count],\n",
    "    \"Percentage of Players\":[male_percentage, female_percentage, other_percentage],})\n",
    "\n",
    "gender_summary=gender_summary.set_index(\"\")\n",
    "\n",
    "gender_summary"
   ]
  },
  {
   "cell_type": "code",
   "execution_count": 79,
   "metadata": {},
   "outputs": [
    {
     "output_type": "execute_result",
     "data": {
      "text/plain": [
       "                       Purchase Count            Average Purchase Price  \\\n",
       "Gender                                                                    \n",
       "Female                            113  Price    3.203009\n",
       "dtype: float64   \n",
       "Male                              652  Price    3.017853\n",
       "dtype: float64   \n",
       "Other / Non-Disclosed              15     Price    3.346\n",
       "dtype: float64   \n",
       "\n",
       "                                  Total Purchase Value  \\\n",
       "Gender                                                   \n",
       "Female                  Price    361.94\n",
       "dtype: float64   \n",
       "Male                   Price    1967.64\n",
       "dtype: float64   \n",
       "Other / Non-Disclosed    Price    50.19\n",
       "dtype: float64   \n",
       "\n",
       "                          Avg Total Purchase per Person  \n",
       "Gender                                                   \n",
       "Female                 Price    4.468395\n",
       "dtype: float64  \n",
       "Male                   Price    4.065372\n",
       "dtype: float64  \n",
       "Other / Non-Disclosed  Price    4.562727\n",
       "dtype: float64  "
      ],
      "text/html": "<div>\n<style scoped>\n    .dataframe tbody tr th:only-of-type {\n        vertical-align: middle;\n    }\n\n    .dataframe tbody tr th {\n        vertical-align: top;\n    }\n\n    .dataframe thead th {\n        text-align: right;\n    }\n</style>\n<table border=\"1\" class=\"dataframe\">\n  <thead>\n    <tr style=\"text-align: right;\">\n      <th></th>\n      <th>Purchase Count</th>\n      <th>Average Purchase Price</th>\n      <th>Total Purchase Value</th>\n      <th>Avg Total Purchase per Person</th>\n    </tr>\n    <tr>\n      <th>Gender</th>\n      <th></th>\n      <th></th>\n      <th></th>\n      <th></th>\n    </tr>\n  </thead>\n  <tbody>\n    <tr>\n      <th>Female</th>\n      <td>113</td>\n      <td>Price    3.203009\ndtype: float64</td>\n      <td>Price    361.94\ndtype: float64</td>\n      <td>Price    4.468395\ndtype: float64</td>\n    </tr>\n    <tr>\n      <th>Male</th>\n      <td>652</td>\n      <td>Price    3.017853\ndtype: float64</td>\n      <td>Price    1967.64\ndtype: float64</td>\n      <td>Price    4.065372\ndtype: float64</td>\n    </tr>\n    <tr>\n      <th>Other / Non-Disclosed</th>\n      <td>15</td>\n      <td>Price    3.346\ndtype: float64</td>\n      <td>Price    50.19\ndtype: float64</td>\n      <td>Price    4.562727\ndtype: float64</td>\n    </tr>\n  </tbody>\n</table>\n</div>"
     },
     "metadata": {},
     "execution_count": 79
    }
   ],
   "source": [
    "male_purchase_count = len(male_player)\n",
    "male_purchase_count\n",
    "\n",
    "female_purchase_count = len(female_player)\n",
    "female_purchase_count\n",
    "\n",
    "other_purchase_count = len(other_player)\n",
    "other_purchase_count\n",
    "\n",
    "avg_male_purchase_price = purchase_data.loc[purchase_data[\"Gender\"] == \"Male\", [\"Price\"]].mean()\n",
    "avg_male_purchase_price\n",
    "\n",
    "avg_female_purchase_price = purchase_data.loc[purchase_data[\"Gender\"] == \"Female\", [\"Price\"]].mean()\n",
    "avg_female_purchase_price\n",
    "\n",
    "avg_other_purchase_price = purchase_data.loc[purchase_data[\"Gender\"] == \"Other / Non-Disclosed\", [\"Price\"]].mean()\n",
    "avg_other_purchase_price\n",
    "\n",
    "total_male_purchase = purchase_data.loc[purchase_data[\"Gender\"] == \"Male\", [\"Price\"]].sum()\n",
    "total_male_purchase\n",
    "\n",
    "total_female_purchase = purchase_data.loc[purchase_data[\"Gender\"] == \"Female\", [\"Price\"]].sum()\n",
    "total_female_purchase\n",
    "\n",
    "total_other_purchase = purchase_data.loc[purchase_data[\"Gender\"] == \"Other / Non-Disclosed\", [\"Price\"]].sum()\n",
    "total_other_purchase\n",
    "\n",
    "avg_total_male = total_male_purchase / male_count\n",
    "avg_total_male\n",
    "\n",
    "avg_total_female = total_female_purchase / female_count\n",
    "avg_total_female\n",
    "\n",
    "avg_total_other = total_other_purchase / other_count\n",
    "avg_total_other\n",
    "\n",
    "gender_analysis = pd.DataFrame({\n",
    "    \"Gender\":[\"Female\", \"Male\", \"Other / Non-Disclosed\"],\n",
    "    \"Purchase Count\":[female_purchase_count, male_purchase_count, other_purchase_count],\n",
    "    \"Average Purchase Price\":[avg_female_purchase_price, avg_male_purchase_price, avg_other_purchase_price],\n",
    "    \"Total Purchase Value\":[total_female_purchase, total_male_purchase, total_other_purchase],\n",
    "    \"Avg Total Purchase per Person\":[avg_total_female, avg_total_male, avg_total_other]})\n",
    "\n",
    "#gender_analysis[\"Total Purchase Value\"] = gender_analysis[\"Total Purchase Value\"].map(\"${0:.2f}\".format)\n",
    "gender_analysis = gender_analysis.set_index(\"Gender\")\n",
    "gender_analysis"
   ]
  },
  {
   "cell_type": "code",
   "execution_count": 66,
   "metadata": {},
   "outputs": [],
   "source": [
    "\n",
    "\n"
   ]
  },
  {
   "cell_type": "code",
   "execution_count": null,
   "metadata": {},
   "outputs": [],
   "source": []
  }
 ]
}